{
 "cells": [
  {
   "cell_type": "markdown",
   "metadata": {},
   "source": [
    "The purpose of this notebook is for two things.\n",
    "\n",
    "1. Explore and examine the TSV file containing the data of locations\n",
    "2. Implementation of edit distance computation using dynamic programming"
   ]
  },
  {
   "cell_type": "code",
   "execution_count": 24,
   "metadata": {
    "scrolled": true
   },
   "outputs": [],
   "source": [
    "import csv\n",
    "import math"
   ]
  },
  {
   "cell_type": "code",
   "execution_count": 25,
   "metadata": {},
   "outputs": [
    {
     "data": {
      "text/plain": [
       "131072"
      ]
     },
     "execution_count": 25,
     "metadata": {},
     "output_type": "execute_result"
    }
   ],
   "source": [
    "# Incrase field size limit for this tsv file. Fixes some weird bug\n",
    "csv.field_size_limit(1000000)"
   ]
  },
  {
   "cell_type": "code",
   "execution_count": 212,
   "metadata": {},
   "outputs": [],
   "source": [
    "# Covert tsv file to csv file\n",
    "# Practice reading value from tsv and csv\n",
    "# NOT NECESSARY\n",
    "with open('cities_canada-usa.tsv','r',encoding='UTF-8') as tsvin, open('new.csv', 'w') as csvout:\n",
    "    tsvin = csv.reader(tsvin, delimiter='\\t')\n",
    "    csvout = csv.writer(csvout) \n",
    "    for index, row in enumerate(tsvin):\n",
    "        csvout.writerow(row)"
   ]
  },
  {
   "cell_type": "code",
   "execution_count": 233,
   "metadata": {
    "scrolled": true
   },
   "outputs": [
    {
     "data": {
      "text/plain": [
       "[[0, 1, 2, 3, 4, 5, 6, 7, 8, 9, 10],\n",
       " [1, 1, 2, 3, 4, 5, 6, 7, 8, 9, 10],\n",
       " [2, 2, 2, 3, 4, 5, 6, 7, 8, 9, 10],\n",
       " [3, 2, 3, 3, 4, 5, 6, 7, 8, 9, 10],\n",
       " [4, 3, 2, 3, 4, 5, 5, 6, 7, 8, 9],\n",
       " [5, 4, 3, 3, 4, 4, 5, 6, 7, 8, 9],\n",
       " [6, 5, 4, 4, 4, 5, 5, 6, 7, 8, 9],\n",
       " [7, 6, 5, 5, 5, 4, 5, 6, 7, 8, 9],\n",
       " [8, 7, 6, 6, 6, 5, 5, 6, 7, 8, 9],\n",
       " [9, 8, 7, 7, 7, 6, 6, 6, 6, 7, 8],\n",
       " [10, 9, 8, 8, 8, 7, 7, 7, 7, 6, 7],\n",
       " [11, 10, 9, 8, 9, 8, 8, 8, 8, 7, 6]]"
      ]
     },
     "execution_count": 233,
     "metadata": {},
     "output_type": "execute_result"
    }
   ],
   "source": [
    "def edge_d(a, b):\n",
    "    '''\n",
    "    Compute the edit distance between two words using dynamic programming\n",
    "    Input: Word a, Word b\n",
    "    Output: Graph of distances. A 2-dimensional array\n",
    "    '''\n",
    "    \n",
    "    # Create graph nxm\n",
    "    n = len(a)\n",
    "    m = len(b)\n",
    "    graph = []\n",
    "    \n",
    "    # Edge Case\n",
    "    if n == 0:\n",
    "        return m\n",
    "    elif m == 0:\n",
    "        return n\n",
    "    \n",
    "    # One extra column / row for initial empty state\n",
    "    n += 1\n",
    "    m += 1\n",
    "    \n",
    "    for i in range(n):\n",
    "        graph.append([0] * m)\n",
    "    \n",
    "    # Call helper with graph\n",
    "    return helper(a, b, graph)\n",
    "\n",
    "def helper(a, b, graph):\n",
    "    \n",
    "    # Solve smallest subproblem \n",
    "    n = len(a) + 1\n",
    "    m = len(b) + 1\n",
    "    \n",
    "    for i in range(n):\n",
    "        graph[i][0] = i\n",
    "    \n",
    "    for i in range(1, m):\n",
    "        graph[0][i] = i\n",
    "        \n",
    "    # Solve subproblems recursively\n",
    "    for i in range(1, n):\n",
    "        for j in range(1, m):\n",
    "            diff = 1 if a[i-1] != b[j-1] else 0\n",
    "            graph[i][j] = min(graph[i-1][j] + 1, graph[i][j-1] + 1, graph[i-1][j-1] + diff)\n",
    "    return graph\n",
    "    \n",
    "edge_d('exponential', 'polynomial')\n",
    "\n",
    "# edge_d('Calgary', '')\n",
    "# edge_d('Snow', 'Know')"
   ]
  },
  {
   "cell_type": "markdown",
   "metadata": {},
   "source": [
    "## Create a table called cities"
   ]
  },
  {
   "cell_type": "code",
   "execution_count": 117,
   "metadata": {},
   "outputs": [],
   "source": [
    "import sys\n",
    "import psycopg2\n",
    "from psycopg2 import connect\n",
    "from psycopg2.extensions import ISOLATION_LEVEL_AUTOCOMMIT\n",
    "\n",
    "create_table_command = (\n",
    "    \"\"\"\n",
    "    CREATE TABLE cities (\n",
    "        id TEXT PRIMARY KEY,\n",
    "        name VARCHAR(200),\n",
    "        ascii VARCHAR(200),\n",
    "        alt_name VARCHAR(5000),\n",
    "        lat FLOAT,\n",
    "        long FLOAT,\n",
    "        feature_class VARCHAR(1),\n",
    "        feature_code VARCHAR(10),\n",
    "        country_code VARCHAR(2),\n",
    "        alt_country_code VARCHAR(60),\n",
    "        admin_1_code VARCHAR(20),\n",
    "        admin_2_code VARCHAR(20),\n",
    "        admin_3_code VARCHAR(20),\n",
    "        admin_4_code VARCHAR(20),\n",
    "        population BIGINT,\n",
    "        elevation INTEGER,\n",
    "        dem INTEGER,\n",
    "        timezone VARCHAR(40),\n",
    "        modification_date VARCHAR(10)\n",
    "    )\n",
    "    \"\"\"\n",
    ")\n",
    "\n",
    "con = None\n",
    "con = connect(database= 'coveo_cities', user='postgres', host = 'localhost', password='password')\n",
    "try:\n",
    "    cur = con.cursor()\n",
    "    cur.execute(create_table_command)\n",
    "    cur.close()\n",
    "    con.commit()\n",
    "    print('Successfully created table')\n",
    "except (Exception, psycopg2.DatabaseError) as error:\n",
    "    print(error)\n"
   ]
  },
  {
   "cell_type": "code",
   "execution_count": 216,
   "metadata": {},
   "outputs": [],
   "source": [
    "# Populate database from CSV File\n",
    "con = None\n",
    "con = connect(database= 'coveo_cities', user='postgres', host = 'localhost', password='password')\n",
    "cur = con.cursor()\n",
    "\n",
    "with open('cities_canada-usa.tsv','r',encoding='UTF-8') as tsvin:\n",
    "    next(tsvin)\n",
    "    cur.copy_from(tsvin, 'cities', sep='\\t', null='')\n",
    "    \n",
    "con.commit()"
   ]
  },
  {
   "cell_type": "code",
   "execution_count": 205,
   "metadata": {
    "scrolled": true
   },
   "outputs": [
    {
     "name": "stdout",
     "output_type": "stream",
     "text": [
      "Error: relation \"cities\" does not exist\n",
      "LINE 1: DELETE FROM cities\n",
      "                    ^\n",
      "\n"
     ]
    }
   ],
   "source": [
    "# Delete table cities\n",
    "con = None\n",
    "con = connect(database= 'coveo_cities', user='postgres', host = 'localhost', password='password')\n",
    "cur = con.cursor()\n",
    "\n",
    "try:\n",
    "    cur.execute('DELETE FROM cities')\n",
    "except (Exception, psycopg2.DatabaseError) as error:\n",
    "    print(f'Error: {error}')\n",
    "finally:\n",
    "    con.commit()\n",
    "    cur.close()\n",
    "    con.close()"
   ]
  },
  {
   "cell_type": "code",
   "execution_count": 285,
   "metadata": {},
   "outputs": [],
   "source": [
    "# Create class of data objects\n",
    "\n",
    "class City:\n",
    "    def __init__(self, name, lat, long):\n",
    "        self.name = name\n",
    "        self.lat = lat\n",
    "        self.long = long\n",
    "        self.confidence_level = 0.0\n",
    "        self.edit_distance = 0\n",
    "        self.physical_distance = None\n",
    "        \n",
    "    def __repr__(self):\n",
    "        return f'{self.name}  (Confidence {self.confidence_level}) (Edit Distance {self.edit_distance}) (Distance {self.physical_distance})'"
   ]
  },
  {
   "cell_type": "code",
   "execution_count": 339,
   "metadata": {
    "scrolled": true
   },
   "outputs": [
    {
     "data": {
      "text/plain": [
       "[Toronto  (Confidence 0.7142857142857143) (Edit Distance 2) (Distance 0.0),\n",
       " Toronto  (Confidence 0.7142857142857143) (Edit Distance 2) (Distance 0.0)]"
      ]
     },
     "execution_count": 339,
     "metadata": {},
     "output_type": "execute_result"
    }
   ],
   "source": [
    "# Read all values from postgres database\n",
    "THRESHOLD = 3\n",
    "\n",
    "def search(query, lat=None, long=None):\n",
    "    con = None\n",
    "    con = connect(database= 'coveo_cities', user='postgres', host = 'localhost', password='password')\n",
    "    cur = con.cursor()\n",
    "    cur.execute('SELECT * FROM cities')\n",
    "    rows = cur.fetchall()\n",
    "    \n",
    "    similar_cities = []\n",
    "    for row in rows:\n",
    "        confidence_graph = edge_d(query, row[1])\n",
    "        if confidence_graph[-1][-1] < THRESHOLD:\n",
    "            city = City(row[1], row[4], row[5])\n",
    "            city.edit_distance = confidence_graph[-1][-1]\n",
    "            if lat and long:\n",
    "                city.physical_distance = lat_long_d(lat, long, row[4], row[5])\n",
    "            \n",
    "            calc_confidence_level(city)\n",
    "            similar_cities.append(city)\n",
    "            \n",
    "\n",
    "    cur.close()\n",
    "    con.close()\n",
    "    return similar_cities\n",
    "    \n",
    "search('Toronot')"
   ]
  },
  {
   "cell_type": "code",
   "execution_count": 342,
   "metadata": {},
   "outputs": [
    {
     "data": {
      "text/plain": [
       "[Toronto  (Confidence 0.7542638647393582) (Edit Distance 1) (Distance 640.9839627813359),\n",
       " Toronto  (Confidence 0.7506422156163697) (Edit Distance 1) (Distance 755.8167686816727)]"
      ]
     },
     "execution_count": 342,
     "metadata": {},
     "output_type": "execute_result"
    }
   ],
   "source": [
    "results = search('Yoronto', 41.43979137, -88.1234974)\n",
    "sorted_search = sorted(results, key=lambda x: x.confidence_level, reverse=True)\n",
    "sorted_search"
   ]
  },
  {
   "cell_type": "code",
   "execution_count": 244,
   "metadata": {},
   "outputs": [
    {
     "data": {
      "text/plain": [
       "602.0879382136474"
      ]
     },
     "execution_count": 244,
     "metadata": {},
     "output_type": "execute_result"
    }
   ],
   "source": [
    "def lat_long_d(_lat_a, _long_a, _lat_b, _long_b):\n",
    "    '''\n",
    "    Returns distance between two points in km\n",
    "    '''\n",
    "    lat_a = math.radians(_lat_a)\n",
    "    lat_b = math.radians(_lat_b)\n",
    "    long_a = math.radians(_long_a)\n",
    "    long_b = math.radians(_long_b)\n",
    "    \n",
    "    # approximate radius of earth in km\n",
    "    R = 6373.0\n",
    "    dlon = long_b - long_a\n",
    "    dlat = lat_b - lat_at\n",
    "\n",
    "    a = math.sin(dlat / 2)**2 + math.cos(lat_a) * math.cos(lat_b) * math.sin(dlon / 2)**2\n",
    "    c = 2 * math.atan2(math.sqrt(a), math.sqrt(1 - a))\n",
    "\n",
    "    distance = R * c\n",
    "    return distance\n",
    "lat_long_d(45.5017089, -73.5728828, 43.4821971, -80.6167601)"
   ]
  },
  {
   "cell_type": "code",
   "execution_count": 337,
   "metadata": {},
   "outputs": [],
   "source": [
    "def calc_confidence_level(city):\n",
    "    '''\n",
    "    Input: City object variable\n",
    "    Calculates and stores the confidence level of the city in-place (city variable is updated)\n",
    "    \n",
    "    Confidence level is calculated as follows:\n",
    "    \n",
    "    -\\-\\-\\-\\-\\-\\\n",
    "    \n",
    "    Output: Calculate confidence level\n",
    "    '''\n",
    "    \n",
    "    INERTIA = 10\n",
    "    confidence_level = 0.0\n",
    "    if city.physical_distance:\n",
    "        confidence_level = 0.8 * (INERTIA / (INERTIA + city.edit_distance**2)) + 0.2 * ( 1 / (1 + city.physical_distance / 100))\n",
    "    else:\n",
    "        confidence_level = (INERTIA / (INERTIA + city.edit_distance**2))\n",
    "    city.confidence_level = confidence_level\n",
    "    return city.confidence_level\n",
    "    "
   ]
  }
 ],
 "metadata": {
  "kernelspec": {
   "display_name": "Python 3",
   "language": "python",
   "name": "python3"
  },
  "language_info": {
   "codemirror_mode": {
    "name": "ipython",
    "version": 3
   },
   "file_extension": ".py",
   "mimetype": "text/x-python",
   "name": "python",
   "nbconvert_exporter": "python",
   "pygments_lexer": "ipython3",
   "version": "3.6.4"
  }
 },
 "nbformat": 4,
 "nbformat_minor": 2
}

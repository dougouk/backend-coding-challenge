{
 "cells": [
  {
   "cell_type": "markdown",
   "metadata": {},
   "source": [
    "The purpose of this notebook is for two things.\n",
    "\n",
    "1. Explore and examine the TSV file containing the data of locations\n",
    "2. Implementation of edit distance computation using dynamic programming"
   ]
  },
  {
   "cell_type": "code",
   "execution_count": 9,
   "metadata": {
    "scrolled": true
   },
   "outputs": [],
   "source": [
    "import csv\n",
    "import math"
   ]
  },
  {
   "cell_type": "code",
   "execution_count": 14,
   "metadata": {},
   "outputs": [
    {
     "data": {
      "text/plain": [
       "1000000"
      ]
     },
     "execution_count": 14,
     "metadata": {},
     "output_type": "execute_result"
    }
   ],
   "source": [
    "# Incrase field size limit for this tsv file. Fixes some weird bug\n",
    "csv.field_size_limit(1000000)"
   ]
  },
  {
   "cell_type": "code",
   "execution_count": null,
   "metadata": {},
   "outputs": [],
   "source": [
    "# Read values\n",
    "with open('cities_canada-usa.tsv','r',encoding='UTF-8') as tsvin, open('new.csv', 'wb') as csvout:\n",
    "    tsvin = csv.reader(tsvin, delimiter='\\t')\n",
    "    csvout = csv.writer(csvout) \n",
    "    for index, row in enumerate(tsvin):\n",
    "        print(index)"
   ]
  },
  {
   "cell_type": "code",
   "execution_count": 20,
   "metadata": {},
   "outputs": [
    {
     "name": "stdout",
     "output_type": "stream",
     "text": [
      "exopnential polynomial\n"
     ]
    },
    {
     "data": {
      "text/plain": [
       "[[0, 1, 2, 3, 4, 5, 6, 7, 8, 9],\n",
       " [1, 1, 2, 3, 4, 5, 6, 7, 8, 9],\n",
       " [2, 1, 2, 3, 4, 4, 5, 6, 7, 8],\n",
       " [3, 2, 2, 3, 4, 5, 5, 6, 7, 8],\n",
       " [4, 3, 3, 3, 3, 4, 5, 6, 7, 8],\n",
       " [5, 4, 4, 4, 4, 4, 5, 6, 7, 8],\n",
       " [6, 5, 5, 5, 4, 5, 5, 6, 7, 8],\n",
       " [7, 6, 6, 6, 5, 5, 6, 6, 7, 8],\n",
       " [8, 7, 7, 7, 6, 6, 6, 6, 7, 8],\n",
       " [9, 8, 8, 8, 7, 7, 7, 7, 6, 7],\n",
       " [10, 9, 8, 9, 8, 8, 8, 8, 7, 6]]"
      ]
     },
     "execution_count": 20,
     "metadata": {},
     "output_type": "execute_result"
    }
   ],
   "source": [
    "def edge_d(a, b):\n",
    "    '''\n",
    "    Compute the edit distance between two words using dynamic programming\n",
    "    Input: Word a, Word b\n",
    "    Output: Graph of distances. A 2-dimensional array\n",
    "    '''\n",
    "    \n",
    "    # Create graph nxm\n",
    "    n = len(a)\n",
    "    m = len(b)\n",
    "    graph = []\n",
    "    \n",
    "    for i in range(n):\n",
    "        graph.append([0] * m)\n",
    "    \n",
    "    # Call helper with graph\n",
    "    return helper(a, b, graph)\n",
    "\n",
    "def helper(a, b, graph):\n",
    "    \n",
    "    # Solve smallest subproblem \n",
    "    n = len(a)\n",
    "    m = len(b)\n",
    "    \n",
    "    for i in range(n):\n",
    "        graph[i][0] = i\n",
    "    \n",
    "    for i in range(m):\n",
    "        graph[0][i] = i\n",
    "        \n",
    "    # Solve subproblems recursively\n",
    "    for i in range(1, n):\n",
    "        for j in range(1, m):\n",
    "            diff = 1 if a[i] != b[j] else 0\n",
    "            graph[i][j] = min(graph[i-1][j] + 1, graph[i][j-1] + 1, graph[i-1][j-1] + diff)\n",
    "    return graph\n",
    "    \n",
    "edge_d('exopnential', 'polynomial')"
   ]
  }
 ],
 "metadata": {
  "kernelspec": {
   "display_name": "Python 3",
   "language": "python",
   "name": "python3"
  },
  "language_info": {
   "codemirror_mode": {
    "name": "ipython",
    "version": 3
   },
   "file_extension": ".py",
   "mimetype": "text/x-python",
   "name": "python",
   "nbconvert_exporter": "python",
   "pygments_lexer": "ipython3",
   "version": "3.6.4"
  }
 },
 "nbformat": 4,
 "nbformat_minor": 2
}

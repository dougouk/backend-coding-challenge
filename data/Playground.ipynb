{
 "cells": [
  {
   "cell_type": "markdown",
   "metadata": {},
   "source": [
    "# Playground\n",
    "\n",
    "The purpose of this notebook is for two things.\n",
    "\n",
    "1. Explore and examine the TSV file containing the data of locations\n",
    "2. Implement the algorithms (edit distance, confidence level)\n",
    "3. Tweak the algorithms (edit distance, confidence level)"
   ]
  },
  {
   "cell_type": "code",
   "execution_count": 1,
   "metadata": {
    "scrolled": true
   },
   "outputs": [],
   "source": [
    "import math"
   ]
  },
  {
   "cell_type": "code",
   "execution_count": 5,
   "metadata": {
    "scrolled": true
   },
   "outputs": [
    {
     "data": {
      "text/plain": [
       "[[0, 1, 2, 3, 4, 5, 6],\n",
       " [1, 0, 1, 2, 3, 4, 5],\n",
       " [2, 1, 0, 1, 2, 3, 4],\n",
       " [3, 2, 1, 0, 1, 2, 3],\n",
       " [4, 3, 2, 1, 1, 2, 3],\n",
       " [5, 4, 3, 2, 2, 2, 2]]"
      ]
     },
     "execution_count": 5,
     "metadata": {},
     "output_type": "execute_result"
    }
   ],
   "source": [
    "def edge_d(a, b):\n",
    "    '''\n",
    "    Compute the edit distance between two words using dynamic programming\n",
    "    Input: Word a, Word b\n",
    "    Output: Graph of distances. A 2-dimensional array\n",
    "    '''\n",
    "    \n",
    "    # Create graph nxm\n",
    "    n = len(a)\n",
    "    m = len(b)\n",
    "    graph = []\n",
    "    \n",
    "    # Edge Case\n",
    "    if n == 0:\n",
    "        return m\n",
    "    elif m == 0:\n",
    "        return n\n",
    "    \n",
    "    # One extra column / row for initial empty state\n",
    "    n += 1\n",
    "    m += 1\n",
    "    \n",
    "    for i in range(n):\n",
    "        graph.append([0] * m)\n",
    "    \n",
    "    # Call helper with graph\n",
    "    return helper(a, b, graph)\n",
    "\n",
    "def helper(a, b, graph):\n",
    "    \n",
    "    # Solve smallest subproblem \n",
    "    n = len(a) + 1\n",
    "    m = len(b) + 1\n",
    "    \n",
    "    for i in range(n):\n",
    "        graph[i][0] = i\n",
    "    \n",
    "    for i in range(1, m):\n",
    "        graph[0][i] = i\n",
    "        \n",
    "    # Solve subproblems recursively\n",
    "    for i in range(1, n):\n",
    "        for j in range(1, m):\n",
    "            diff = 1 if a[i-1] != b[j-1] else 0\n",
    "            graph[i][j] = min(graph[i-1][j] + 1, graph[i][j-1] + 1, graph[i-1][j-1] + diff)\n",
    "    return graph\n",
    "    \n",
    "# edge_d('exponential', 'polynomial')\n",
    "edge_d('sunny', 'sunday')\n",
    "# edge_d('Calgary', '')\n",
    "# edge_d('Snow', 'Know')"
   ]
  },
  {
   "cell_type": "code",
   "execution_count": 10,
   "metadata": {
    "scrolled": true
   },
   "outputs": [
    {
     "name": "stderr",
     "output_type": "stream",
     "text": [
      "/Users/dougouk/miniconda3/lib/python3.6/site-packages/psycopg2/__init__.py:144: UserWarning: The psycopg2 wheel package will be renamed from release 2.8; in order to keep installing from binary please use \"pip install psycopg2-binary\" instead. For details see: <http://initd.org/psycopg/docs/install.html#binary-install-from-pypi>.\n",
      "  \"\"\")\n"
     ]
    }
   ],
   "source": [
    "import sys\n",
    "import psycopg2\n",
    "from psycopg2 import connect\n",
    "from psycopg2.extensions import ISOLATION_LEVEL_AUTOCOMMIT"
   ]
  },
  {
   "cell_type": "markdown",
   "metadata": {},
   "source": [
    "## Create a table called cities"
   ]
  },
  {
   "cell_type": "code",
   "execution_count": 117,
   "metadata": {},
   "outputs": [],
   "source": [
    "create_table_command = (\n",
    "    \"\"\"\n",
    "    CREATE TABLE cities (\n",
    "        id TEXT PRIMARY KEY,\n",
    "        name VARCHAR(200),\n",
    "        ascii VARCHAR(200),\n",
    "        alt_name VARCHAR(5000),\n",
    "        lat FLOAT,\n",
    "        long FLOAT,\n",
    "        feature_class VARCHAR(1),\n",
    "        feature_code VARCHAR(10),\n",
    "        country_code VARCHAR(2),\n",
    "        alt_country_code VARCHAR(60),\n",
    "        admin_1_code VARCHAR(20),\n",
    "        admin_2_code VARCHAR(20),\n",
    "        admin_3_code VARCHAR(20),\n",
    "        admin_4_code VARCHAR(20),\n",
    "        population BIGINT,\n",
    "        elevation INTEGER,\n",
    "        dem INTEGER,\n",
    "        timezone VARCHAR(40),\n",
    "        modification_date VARCHAR(10)\n",
    "    )\n",
    "    \"\"\"\n",
    ")\n",
    "\n",
    "con = None\n",
    "con = connect(database= 'coveo_cities', user='postgres', host = 'localhost', password='password')\n",
    "try:\n",
    "    cur = con.cursor()\n",
    "    cur.execute(create_table_command)\n",
    "    cur.close()\n",
    "    con.commit()\n",
    "    print('Successfully created table')\n",
    "except (Exception, psycopg2.DatabaseError) as error:\n",
    "    print(error)\n"
   ]
  },
  {
   "cell_type": "markdown",
   "metadata": {},
   "source": [
    "### Populate database from TSV File"
   ]
  },
  {
   "cell_type": "code",
   "execution_count": 216,
   "metadata": {},
   "outputs": [],
   "source": [
    "con = None\n",
    "con = connect(database= 'coveo_cities', user='postgres', host = 'localhost', password='password')\n",
    "cur = con.cursor()\n",
    "\n",
    "with open('cities_canada-usa.tsv','r',encoding='UTF-8') as tsvin:\n",
    "    next(tsvin)\n",
    "    cur.copy_from(tsvin, 'cities', sep='\\t', null='')\n",
    "    \n",
    "con.commit()"
   ]
  },
  {
   "cell_type": "markdown",
   "metadata": {},
   "source": [
    "### Delete Table Cities"
   ]
  },
  {
   "cell_type": "code",
   "execution_count": 205,
   "metadata": {
    "scrolled": true
   },
   "outputs": [
    {
     "name": "stdout",
     "output_type": "stream",
     "text": [
      "Error: relation \"cities\" does not exist\n",
      "LINE 1: DELETE FROM cities\n",
      "                    ^\n",
      "\n"
     ]
    }
   ],
   "source": [
    "con = None\n",
    "con = connect(database= 'coveo_cities', user='postgres', host = 'localhost', password='password')\n",
    "cur = con.cursor()\n",
    "\n",
    "try:\n",
    "    cur.execute('DELETE FROM cities')\n",
    "except (Exception, psycopg2.DatabaseError) as error:\n",
    "    print(f'Error: {error}')\n",
    "finally:\n",
    "    con.commit()\n",
    "    cur.close()\n",
    "    con.close()"
   ]
  },
  {
   "cell_type": "code",
   "execution_count": 8,
   "metadata": {},
   "outputs": [],
   "source": [
    "# Create class of data objects\n",
    "\n",
    "class City:\n",
    "    def __init__(self, name, lat, long):\n",
    "        self.name = name\n",
    "        self.lat = lat\n",
    "        self.long = long\n",
    "        self.confidence_level = 0.0\n",
    "        self.edit_distance = 0\n",
    "        self.physical_distance = None\n",
    "        \n",
    "    def __repr__(self):\n",
    "        return f'{self.name}  (Confidence {self.confidence_level}) (Edit Distance {self.edit_distance}) (Distance {self.physical_distance})'"
   ]
  },
  {
   "cell_type": "code",
   "execution_count": 36,
   "metadata": {
    "scrolled": true
   },
   "outputs": [
    {
     "data": {
      "text/plain": [
       "[Calgary  (Confidence 1.0) (Edit Distance 0) (Distance None)]"
      ]
     },
     "execution_count": 36,
     "metadata": {},
     "output_type": "execute_result"
    }
   ],
   "source": [
    "\n",
    "EDIT_DISTANCE_THRESHOLD = 3\n",
    "def search(query, lat=None, long=None):\n",
    "    '''\n",
    "    Inputs\n",
    "        query: name of city\n",
    "        lat: optional latitude parameter\n",
    "        longitude: optional longitude parameter\n",
    "    Output\n",
    "        Array of cities that may be good results based on the input parameters\n",
    "    '''\n",
    "    if query is '':\n",
    "        return []\n",
    "    con = None\n",
    "    con = connect(database= 'coveo_cities', user='postgres', host = 'localhost', password='password')\n",
    "    cur = con.cursor()\n",
    "    # cur.execute('SELECT * FROM cities')\n",
    "    cur.execute('SELECT * FROM cities WHERE LOWER(cities.name) LIKE \\'%' + query.lower() + '%\\'')\n",
    "    rows = cur.fetchall()\n",
    "    \n",
    "    similar_cities = []\n",
    "    for row in rows:\n",
    "        confidence_graph = edge_d(query.lower(), row[1].lower())\n",
    "        if query.lower() in row[1].lower() or confidence_graph[-1][-1] < EDIT_DISTANCE_THRESHOLD:\n",
    "            city = City(row[1], row[4], row[5])\n",
    "            city.edit_distance = confidence_graph[-1][-1]\n",
    "            if lat and long:\n",
    "                city.physical_distance = lat_long_d(lat, long, row[4], row[5])\n",
    "\n",
    "            calc_confidence_level(city, query)\n",
    "            similar_cities.append(city)\n",
    "    cur.close()\n",
    "    con.close()\n",
    "    return similar_cities\n",
    "    \n",
    "search('Calgary')"
   ]
  },
  {
   "cell_type": "code",
   "execution_count": 30,
   "metadata": {},
   "outputs": [
    {
     "data": {
      "text/plain": [
       "[Calgary  (Confidence 0.5588917292165543) (Edit Distance 3) (Distance 19.272830905652228)]"
      ]
     },
     "execution_count": 30,
     "metadata": {},
     "output_type": "execute_result"
    }
   ],
   "source": [
    "results = search('Calg', 51.012782, -114.3543368)\n",
    "sorted_search = sorted(results, key=lambda x: x.confidence_level, reverse=True)\n",
    "sorted_search"
   ]
  },
  {
   "cell_type": "code",
   "execution_count": 15,
   "metadata": {
    "scrolled": true
   },
   "outputs": [
    {
     "data": {
      "text/plain": [
       "[London  (Confidence 0.8362086332750764) (Edit Distance 1) (Distance 167.188390567362),\n",
       " London  (Confidence 0.7813284021986127) (Edit Distance 1) (Distance 539.9778109299942),\n",
       " London  (Confidence 0.766086077948264) (Edit Distance 1) (Distance 830.5732255476521),\n",
       " New London  (Confidence 0.27542660802558644) (Edit Distance 5) (Distance 653.6943079928908),\n",
       " New London  (Confidence 0.2707224618404707) (Edit Distance 5) (Distance 748.9684332217317),\n",
       " Londontowne  (Confidence 0.22508475840288877) (Edit Distance 6) (Distance 581.6818345626483),\n",
       " Londonderry  (Confidence 0.22055836811672933) (Edit Distance 6) (Distance 657.5350329325814)]"
      ]
     },
     "execution_count": 15,
     "metadata": {},
     "output_type": "execute_result"
    }
   ],
   "source": [
    "results = search('londo', 43.70011, -79.4163)\n",
    "sorted_search = sorted(results, key=lambda x: x.confidence_level, reverse=True)\n",
    "sorted_search"
   ]
  },
  {
   "cell_type": "code",
   "execution_count": 37,
   "metadata": {},
   "outputs": [
    {
     "data": {
      "text/plain": [
       "[]"
      ]
     },
     "execution_count": 37,
     "metadata": {},
     "output_type": "execute_result"
    }
   ],
   "source": [
    "results = search('', None, None)\n",
    "results"
   ]
  },
  {
   "cell_type": "code",
   "execution_count": 13,
   "metadata": {},
   "outputs": [
    {
     "data": {
      "text/plain": [
       "418.20130730887263"
      ]
     },
     "execution_count": 13,
     "metadata": {},
     "output_type": "execute_result"
    }
   ],
   "source": [
    "def lat_long_d(_lat_a, _long_a, _lat_b, _long_b):\n",
    "    '''\n",
    "    Returns distance between two points in km\n",
    "    '''\n",
    "    lat_a = math.radians(_lat_a)\n",
    "    lat_b = math.radians(_lat_b)\n",
    "    long_a = math.radians(_long_a)\n",
    "    long_b = math.radians(_long_b)\n",
    "    \n",
    "    # approximate radius of earth in km\n",
    "    R = 6373.0\n",
    "    dlon = long_b - long_a\n",
    "    dlat = lat_b - lat_a\n",
    "\n",
    "    a = math.sin(dlat / 2)**2 + math.cos(lat_a) * math.cos(lat_b) * math.sin(dlon / 2)**2\n",
    "    c = 2 * math.atan2(math.sqrt(a), math.sqrt(1 - a))\n",
    "\n",
    "    distance = R * c\n",
    "    return distance\n",
    "\n",
    "pair_1 = [44.5544837, -78.7165327]\n",
    "pair_2 = [45.5016889, -73.567256]\n",
    "lat_long_d(pair_1[0], pair_1[1], pair_2[0], pair_2[1])"
   ]
  },
  {
   "cell_type": "code",
   "execution_count": 12,
   "metadata": {},
   "outputs": [],
   "source": [
    "def calc_confidence_level(city, query_location):\n",
    "    '''\n",
    "    Input: City object variable\n",
    "    Output: Calculated confidence level\n",
    "    '''\n",
    "    \n",
    "    INERTIA = len(query_location) * 2\n",
    "    confidence_level = 0.0\n",
    "    if city.physical_distance:\n",
    "        confidence_level = 0.8 * (INERTIA / (INERTIA + city.edit_distance**2)) + 0.2 * ( 1 / (1 + city.physical_distance / 200))\n",
    "    else:\n",
    "        confidence_level = (INERTIA / (INERTIA + city.edit_distance**2))\n",
    "    city.confidence_level = confidence_level\n",
    "    return city.confidence_level"
   ]
  },
  {
   "cell_type": "code",
   "execution_count": null,
   "metadata": {},
   "outputs": [],
   "source": [
    "con = None\n",
    "con = connect(database= 'coveo_cities', user='postgres', host = 'localhost', password='password')\n",
    "cur = con.cursor()\n",
    "cur.execute('SELECT * FROM cities')\n",
    "rows = cur.fetchall()\n",
    "print(f'Database result size {len(rows)}')\n",
    "len(rows)"
   ]
  }
 ],
 "metadata": {
  "kernelspec": {
   "display_name": "Python 3",
   "language": "python",
   "name": "python3"
  },
  "language_info": {
   "codemirror_mode": {
    "name": "ipython",
    "version": 3
   },
   "file_extension": ".py",
   "mimetype": "text/x-python",
   "name": "python",
   "nbconvert_exporter": "python",
   "pygments_lexer": "ipython3",
   "version": "3.6.4"
  }
 },
 "nbformat": 4,
 "nbformat_minor": 2
}
